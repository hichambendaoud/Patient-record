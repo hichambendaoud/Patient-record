{
 "cells": [
  {
   "cell_type": "markdown",
   "metadata": {},
   "source": [
    "## Import Necessary Libraries"
   ]
  },
  {
   "cell_type": "code",
   "execution_count": 2,
   "metadata": {},
   "outputs": [],
   "source": [
    "import pandas as pd\n",
    "import matplotlib.pyplot as plt\n",
    "import seaborn as sns\n",
    "import os"
   ]
  },
  {
   "cell_type": "markdown",
   "metadata": {},
   "source": [
    "<a id='1'></a>\n",
    "# <p style=\"background-color:white; font-family:newtimeroman; font-size:150%; text-align:center\">1. 📊 Patients 📚</p>"
   ]
  },
  {
   "cell_type": "markdown",
   "metadata": {},
   "source": [
    "## Load the dataset"
   ]
  },
  {
   "cell_type": "code",
   "execution_count": 3,
   "metadata": {},
   "outputs": [],
   "source": [
    "# Run the eda_functions.py script\n",
    "%run eda_functions.py"
   ]
  },
  {
   "cell_type": "code",
   "execution_count": 4,
   "metadata": {},
   "outputs": [
    {
     "data": {
      "text/html": [
       "<div>\n",
       "<style scoped>\n",
       "    .dataframe tbody tr th:only-of-type {\n",
       "        vertical-align: middle;\n",
       "    }\n",
       "\n",
       "    .dataframe tbody tr th {\n",
       "        vertical-align: top;\n",
       "    }\n",
       "\n",
       "    .dataframe thead th {\n",
       "        text-align: right;\n",
       "    }\n",
       "</style>\n",
       "<table border=\"1\" class=\"dataframe\">\n",
       "  <thead>\n",
       "    <tr style=\"text-align: right;\">\n",
       "      <th></th>\n",
       "      <th>Id</th>\n",
       "      <th>BIRTHDATE</th>\n",
       "      <th>DEATHDATE</th>\n",
       "      <th>PREFIX</th>\n",
       "      <th>FIRST</th>\n",
       "      <th>LAST</th>\n",
       "      <th>SUFFIX</th>\n",
       "      <th>MAIDEN</th>\n",
       "      <th>MARITAL</th>\n",
       "      <th>RACE</th>\n",
       "      <th>ETHNICITY</th>\n",
       "      <th>GENDER</th>\n",
       "      <th>BIRTHPLACE</th>\n",
       "      <th>ADDRESS</th>\n",
       "      <th>CITY</th>\n",
       "      <th>STATE</th>\n",
       "      <th>COUNTY</th>\n",
       "      <th>ZIP</th>\n",
       "      <th>LAT</th>\n",
       "      <th>LON</th>\n",
       "    </tr>\n",
       "  </thead>\n",
       "  <tbody>\n",
       "    <tr>\n",
       "      <th>0</th>\n",
       "      <td>5605b66b-e92d-c16c-1b83-b8bf7040d51f</td>\n",
       "      <td>1977|03-19</td>\n",
       "      <td>NaN</td>\n",
       "      <td>Mrs.</td>\n",
       "      <td>Nikita578</td>\n",
       "      <td>Erdman779</td>\n",
       "      <td>NaN</td>\n",
       "      <td>Leannon79</td>\n",
       "      <td>M</td>\n",
       "      <td>white</td>\n",
       "      <td>nonhispanic</td>\n",
       "      <td>NaN</td>\n",
       "      <td>Wakefield  Massachusetts  US</td>\n",
       "      <td>510 Little Station Unit 69</td>\n",
       "      <td>Quincy</td>\n",
       "      <td>Massachusetts</td>\n",
       "      <td>Norfolk County</td>\n",
       "      <td>2186.0</td>\n",
       "      <td>42.290937</td>\n",
       "      <td>-70.975503</td>\n",
       "    </tr>\n",
       "    <tr>\n",
       "      <th>1</th>\n",
       "      <td>6e5ae27c-8038-7988-e2c0-25a103f01bfa</td>\n",
       "      <td>1940|02-19</td>\n",
       "      <td>NaN</td>\n",
       "      <td>Mr.</td>\n",
       "      <td>Zane918</td>\n",
       "      <td>Hodkiewicz467</td>\n",
       "      <td>NaN</td>\n",
       "      <td>NaN</td>\n",
       "      <td>M</td>\n",
       "      <td>white</td>\n",
       "      <td>nonhispanic</td>\n",
       "      <td>M</td>\n",
       "      <td>Brookline  Massachusetts  US</td>\n",
       "      <td>747 Conn Throughway</td>\n",
       "      <td>Boston</td>\n",
       "      <td>Massachusetts</td>\n",
       "      <td>Suffolk County</td>\n",
       "      <td>2135.0</td>\n",
       "      <td>42.308831</td>\n",
       "      <td>-71.063162</td>\n",
       "    </tr>\n",
       "    <tr>\n",
       "      <th>2</th>\n",
       "      <td>8123d076-0886-9007-e956-d5864aa121a7</td>\n",
       "      <td>1958|06-04</td>\n",
       "      <td>NaN</td>\n",
       "      <td>Mr.</td>\n",
       "      <td>Quinn173</td>\n",
       "      <td>Marquardt819</td>\n",
       "      <td>NaN</td>\n",
       "      <td>NaN</td>\n",
       "      <td>M</td>\n",
       "      <td>white</td>\n",
       "      <td>nonhispanic</td>\n",
       "      <td>NaN</td>\n",
       "      <td>Gardner  Massachusetts  US</td>\n",
       "      <td>816 Okuneva Extension Apt 91</td>\n",
       "      <td>Quincy</td>\n",
       "      <td>Massachusetts</td>\n",
       "      <td>Norfolk County</td>\n",
       "      <td>2170.0</td>\n",
       "      <td>42.265177</td>\n",
       "      <td>-70.967085</td>\n",
       "    </tr>\n",
       "    <tr>\n",
       "      <th>3</th>\n",
       "      <td>770518e4-6133-648e-60c9-071eb2f0e2ce</td>\n",
       "      <td>1928|12-25</td>\n",
       "      <td>2017-09-29</td>\n",
       "      <td>Mr.</td>\n",
       "      <td>Abel832</td>\n",
       "      <td>Smitham825</td>\n",
       "      <td>NaN</td>\n",
       "      <td>NaN</td>\n",
       "      <td>M</td>\n",
       "      <td>white</td>\n",
       "      <td>hispanic</td>\n",
       "      <td>M</td>\n",
       "      <td>Randolph  Massachusetts  US</td>\n",
       "      <td>127 Cole Way Unit 95</td>\n",
       "      <td>Boston</td>\n",
       "      <td>Massachusetts</td>\n",
       "      <td>Suffolk County</td>\n",
       "      <td>2118.0</td>\n",
       "      <td>42.334304</td>\n",
       "      <td>-71.066801</td>\n",
       "    </tr>\n",
       "    <tr>\n",
       "      <th>4</th>\n",
       "      <td>f96addf5-81b9-0aab-7855-d208d3d352c5</td>\n",
       "      <td>1928|12-25</td>\n",
       "      <td>2014-02-23</td>\n",
       "      <td>Mr.</td>\n",
       "      <td>Edwin773</td>\n",
       "      <td>Labadie908</td>\n",
       "      <td>NaN</td>\n",
       "      <td>NaN</td>\n",
       "      <td>M</td>\n",
       "      <td>white</td>\n",
       "      <td>hispanic</td>\n",
       "      <td>NaN</td>\n",
       "      <td>Stow  Massachusetts  US</td>\n",
       "      <td>976 Ziemann Gateway</td>\n",
       "      <td>Boston</td>\n",
       "      <td>Massachusetts</td>\n",
       "      <td>Suffolk County</td>\n",
       "      <td>2125.0</td>\n",
       "      <td>42.346771</td>\n",
       "      <td>-71.058813</td>\n",
       "    </tr>\n",
       "  </tbody>\n",
       "</table>\n",
       "</div>"
      ],
      "text/plain": [
       "                                     Id   BIRTHDATE   DEATHDATE PREFIX  \\\n",
       "0  5605b66b-e92d-c16c-1b83-b8bf7040d51f  1977|03-19         NaN   Mrs.   \n",
       "1  6e5ae27c-8038-7988-e2c0-25a103f01bfa  1940|02-19         NaN    Mr.   \n",
       "2  8123d076-0886-9007-e956-d5864aa121a7  1958|06-04         NaN    Mr.   \n",
       "3  770518e4-6133-648e-60c9-071eb2f0e2ce  1928|12-25  2017-09-29    Mr.   \n",
       "4  f96addf5-81b9-0aab-7855-d208d3d352c5  1928|12-25  2014-02-23    Mr.   \n",
       "\n",
       "           FIRST           LAST SUFFIX     MAIDEN MARITAL   RACE    ETHNICITY  \\\n",
       "0     Nikita578       Erdman779    NaN  Leannon79       M  white  nonhispanic   \n",
       "1       Zane918   Hodkiewicz467    NaN        NaN       M  white  nonhispanic   \n",
       "2      Quinn173    Marquardt819    NaN        NaN       M  white  nonhispanic   \n",
       "3       Abel832      Smitham825    NaN        NaN       M  white     hispanic   \n",
       "4      Edwin773      Labadie908    NaN        NaN       M  white     hispanic   \n",
       "\n",
       "  GENDER                    BIRTHPLACE                       ADDRESS    CITY  \\\n",
       "0    NaN  Wakefield  Massachusetts  US    510 Little Station Unit 69  Quincy   \n",
       "1      M  Brookline  Massachusetts  US           747 Conn Throughway  Boston   \n",
       "2    NaN    Gardner  Massachusetts  US  816 Okuneva Extension Apt 91  Quincy   \n",
       "3      M   Randolph  Massachusetts  US          127 Cole Way Unit 95  Boston   \n",
       "4    NaN       Stow  Massachusetts  US           976 Ziemann Gateway  Boston   \n",
       "\n",
       "           STATE          COUNTY     ZIP        LAT        LON  \n",
       "0  Massachusetts  Norfolk County  2186.0  42.290937 -70.975503  \n",
       "1  Massachusetts  Suffolk County  2135.0  42.308831 -71.063162  \n",
       "2  Massachusetts  Norfolk County  2170.0  42.265177 -70.967085  \n",
       "3  Massachusetts  Suffolk County  2118.0  42.334304 -71.066801  \n",
       "4  Massachusetts  Suffolk County  2125.0  42.346771 -71.058813  "
      ]
     },
     "execution_count": 4,
     "metadata": {},
     "output_type": "execute_result"
    }
   ],
   "source": [
    "# Get the current working directory\n",
    "current_directory = os.getcwd()\n",
    "\n",
    "# Name of the file you want to read\n",
    "patients_file_name = 'patients.csv'\n",
    "\n",
    "# Create the full file path\n",
    "patients_file_path = os.path.join(current_directory, patients_file_name)\n",
    "# Load the data\n",
    "patients_df = load_csv(patients_file_path, delimiter=':', encoding='latin-1')\n",
    "# df = load_csv(patients_file_path, delimiter=':', encoding='latin-1')\n",
    "patients_df.head()"
   ]
  },
  {
   "cell_type": "code",
   "execution_count": 5,
   "metadata": {},
   "outputs": [
    {
     "name": "stdout",
     "output_type": "stream",
     "text": [
      "DataFrame Info:\n",
      "<class 'pandas.core.frame.DataFrame'>\n",
      "RangeIndex: 994 entries, 0 to 993\n",
      "Data columns (total 20 columns):\n",
      " #   Column      Non-Null Count  Dtype  \n",
      "---  ------      --------------  -----  \n",
      " 0   Id          994 non-null    object \n",
      " 1   BIRTHDATE   994 non-null    object \n",
      " 2   DEATHDATE   154 non-null    object \n",
      " 3   PREFIX      994 non-null    object \n",
      " 4   FIRST       994 non-null    object \n",
      " 5   LAST        994 non-null    object \n",
      " 6   SUFFIX      21 non-null     object \n",
      " 7   MAIDEN      394 non-null    object \n",
      " 8   MARITAL     993 non-null    object \n",
      " 9   RACE        994 non-null    object \n",
      " 10  ETHNICITY   994 non-null    object \n",
      " 11  GENDER      507 non-null    object \n",
      " 12  BIRTHPLACE  994 non-null    object \n",
      " 13  ADDRESS     994 non-null    object \n",
      " 14  CITY        994 non-null    object \n",
      " 15  STATE       994 non-null    object \n",
      " 16  COUNTY      994 non-null    object \n",
      " 17  ZIP         849 non-null    float64\n",
      " 18  LAT         994 non-null    float64\n",
      " 19  LON         994 non-null    float64\n",
      "dtypes: float64(3), object(17)\n",
      "memory usage: 155.4+ KB\n",
      "None\n"
     ]
    }
   ],
   "source": [
    "# Display basic information about the DataFrame\n",
    "display_info(patients_df)"
   ]
  },
  {
   "cell_type": "code",
   "execution_count": 6,
   "metadata": {},
   "outputs": [
    {
     "name": "stdout",
     "output_type": "stream",
     "text": [
      "Descriptive Statistics:\n",
      "               ZIP         LAT         LON\n",
      "count   849.000000  994.000000  994.000000\n",
      "mean   2152.810365   42.336960  -71.027496\n",
      "std      76.315804    0.047714    0.069694\n",
      "min    1801.000000   42.204921  -71.165648\n",
      "25%    2121.000000   42.312863  -71.068246\n",
      "50%    2135.000000   42.342115  -71.038447\n",
      "75%    2163.000000   42.371450  -70.999122\n",
      "max    2472.000000   42.495464  -70.730824\n"
     ]
    }
   ],
   "source": [
    "# Display descriptive statistics of the DataFrame\n",
    "display_description(patients_df)"
   ]
  },
  {
   "cell_type": "markdown",
   "metadata": {},
   "source": [
    "\n",
    "# Handle duplicates"
   ]
  },
  {
   "cell_type": "code",
   "execution_count": 7,
   "metadata": {},
   "outputs": [
    {
     "data": {
      "text/plain": [
       "'c:\\\\Users\\\\dell\\\\Desktop\\\\Patient_Records\\\\work\\\\patient_duplicates.csv'"
      ]
     },
     "execution_count": 7,
     "metadata": {},
     "output_type": "execute_result"
    }
   ],
   "source": [
    "duplicates_file = \"Data_Anomalies\\\\patient_duplicates.csv\"\n",
    "# Get the current directory (optional, for relative paths)\n",
    "current_directory = os.getcwd()\n",
    "# Combine the current directory with file names (optional, for relative paths)\n",
    "duplicates_file_path = os.path.join(current_directory, duplicates_file)\n",
    "duplicates_file_path"
   ]
  },
  {
   "cell_type": "code",
   "execution_count": 8,
   "metadata": {},
   "outputs": [
    {
     "name": "stdout",
     "output_type": "stream",
     "text": [
      "DataFrame saved to c:\\Users\\dell\\Desktop\\Patient_Records\\work\\patient_duplicates.csv.\n",
      "Removed 20 duplicate rows. Duplicates saved to c:\\Users\\dell\\Desktop\\Patient_Records\\work\\patient_duplicates.csv.\n"
     ]
    },
    {
     "data": {
      "text/html": [
       "<div>\n",
       "<style scoped>\n",
       "    .dataframe tbody tr th:only-of-type {\n",
       "        vertical-align: middle;\n",
       "    }\n",
       "\n",
       "    .dataframe tbody tr th {\n",
       "        vertical-align: top;\n",
       "    }\n",
       "\n",
       "    .dataframe thead th {\n",
       "        text-align: right;\n",
       "    }\n",
       "</style>\n",
       "<table border=\"1\" class=\"dataframe\">\n",
       "  <thead>\n",
       "    <tr style=\"text-align: right;\">\n",
       "      <th></th>\n",
       "      <th>Id</th>\n",
       "      <th>BIRTHDATE</th>\n",
       "      <th>DEATHDATE</th>\n",
       "      <th>PREFIX</th>\n",
       "      <th>FIRST</th>\n",
       "      <th>LAST</th>\n",
       "      <th>SUFFIX</th>\n",
       "      <th>MAIDEN</th>\n",
       "      <th>MARITAL</th>\n",
       "      <th>RACE</th>\n",
       "      <th>ETHNICITY</th>\n",
       "      <th>GENDER</th>\n",
       "      <th>BIRTHPLACE</th>\n",
       "      <th>ADDRESS</th>\n",
       "      <th>CITY</th>\n",
       "      <th>STATE</th>\n",
       "      <th>COUNTY</th>\n",
       "      <th>ZIP</th>\n",
       "      <th>LAT</th>\n",
       "      <th>LON</th>\n",
       "    </tr>\n",
       "  </thead>\n",
       "  <tbody>\n",
       "    <tr>\n",
       "      <th>0</th>\n",
       "      <td>5605b66b-e92d-c16c-1b83-b8bf7040d51f</td>\n",
       "      <td>1977|03-19</td>\n",
       "      <td>NaN</td>\n",
       "      <td>Mrs.</td>\n",
       "      <td>Nikita578</td>\n",
       "      <td>Erdman779</td>\n",
       "      <td>NaN</td>\n",
       "      <td>Leannon79</td>\n",
       "      <td>M</td>\n",
       "      <td>white</td>\n",
       "      <td>nonhispanic</td>\n",
       "      <td>NaN</td>\n",
       "      <td>Wakefield  Massachusetts  US</td>\n",
       "      <td>510 Little Station Unit 69</td>\n",
       "      <td>Quincy</td>\n",
       "      <td>Massachusetts</td>\n",
       "      <td>Norfolk County</td>\n",
       "      <td>2186.0</td>\n",
       "      <td>42.290937</td>\n",
       "      <td>-70.975503</td>\n",
       "    </tr>\n",
       "    <tr>\n",
       "      <th>1</th>\n",
       "      <td>6e5ae27c-8038-7988-e2c0-25a103f01bfa</td>\n",
       "      <td>1940|02-19</td>\n",
       "      <td>NaN</td>\n",
       "      <td>Mr.</td>\n",
       "      <td>Zane918</td>\n",
       "      <td>Hodkiewicz467</td>\n",
       "      <td>NaN</td>\n",
       "      <td>NaN</td>\n",
       "      <td>M</td>\n",
       "      <td>white</td>\n",
       "      <td>nonhispanic</td>\n",
       "      <td>M</td>\n",
       "      <td>Brookline  Massachusetts  US</td>\n",
       "      <td>747 Conn Throughway</td>\n",
       "      <td>Boston</td>\n",
       "      <td>Massachusetts</td>\n",
       "      <td>Suffolk County</td>\n",
       "      <td>2135.0</td>\n",
       "      <td>42.308831</td>\n",
       "      <td>-71.063162</td>\n",
       "    </tr>\n",
       "    <tr>\n",
       "      <th>2</th>\n",
       "      <td>8123d076-0886-9007-e956-d5864aa121a7</td>\n",
       "      <td>1958|06-04</td>\n",
       "      <td>NaN</td>\n",
       "      <td>Mr.</td>\n",
       "      <td>Quinn173</td>\n",
       "      <td>Marquardt819</td>\n",
       "      <td>NaN</td>\n",
       "      <td>NaN</td>\n",
       "      <td>M</td>\n",
       "      <td>white</td>\n",
       "      <td>nonhispanic</td>\n",
       "      <td>NaN</td>\n",
       "      <td>Gardner  Massachusetts  US</td>\n",
       "      <td>816 Okuneva Extension Apt 91</td>\n",
       "      <td>Quincy</td>\n",
       "      <td>Massachusetts</td>\n",
       "      <td>Norfolk County</td>\n",
       "      <td>2170.0</td>\n",
       "      <td>42.265177</td>\n",
       "      <td>-70.967085</td>\n",
       "    </tr>\n",
       "    <tr>\n",
       "      <th>3</th>\n",
       "      <td>770518e4-6133-648e-60c9-071eb2f0e2ce</td>\n",
       "      <td>1928|12-25</td>\n",
       "      <td>2017-09-29</td>\n",
       "      <td>Mr.</td>\n",
       "      <td>Abel832</td>\n",
       "      <td>Smitham825</td>\n",
       "      <td>NaN</td>\n",
       "      <td>NaN</td>\n",
       "      <td>M</td>\n",
       "      <td>white</td>\n",
       "      <td>hispanic</td>\n",
       "      <td>M</td>\n",
       "      <td>Randolph  Massachusetts  US</td>\n",
       "      <td>127 Cole Way Unit 95</td>\n",
       "      <td>Boston</td>\n",
       "      <td>Massachusetts</td>\n",
       "      <td>Suffolk County</td>\n",
       "      <td>2118.0</td>\n",
       "      <td>42.334304</td>\n",
       "      <td>-71.066801</td>\n",
       "    </tr>\n",
       "    <tr>\n",
       "      <th>4</th>\n",
       "      <td>f96addf5-81b9-0aab-7855-d208d3d352c5</td>\n",
       "      <td>1928|12-25</td>\n",
       "      <td>2014-02-23</td>\n",
       "      <td>Mr.</td>\n",
       "      <td>Edwin773</td>\n",
       "      <td>Labadie908</td>\n",
       "      <td>NaN</td>\n",
       "      <td>NaN</td>\n",
       "      <td>M</td>\n",
       "      <td>white</td>\n",
       "      <td>hispanic</td>\n",
       "      <td>NaN</td>\n",
       "      <td>Stow  Massachusetts  US</td>\n",
       "      <td>976 Ziemann Gateway</td>\n",
       "      <td>Boston</td>\n",
       "      <td>Massachusetts</td>\n",
       "      <td>Suffolk County</td>\n",
       "      <td>2125.0</td>\n",
       "      <td>42.346771</td>\n",
       "      <td>-71.058813</td>\n",
       "    </tr>\n",
       "  </tbody>\n",
       "</table>\n",
       "</div>"
      ],
      "text/plain": [
       "                                     Id   BIRTHDATE   DEATHDATE PREFIX  \\\n",
       "0  5605b66b-e92d-c16c-1b83-b8bf7040d51f  1977|03-19         NaN   Mrs.   \n",
       "1  6e5ae27c-8038-7988-e2c0-25a103f01bfa  1940|02-19         NaN    Mr.   \n",
       "2  8123d076-0886-9007-e956-d5864aa121a7  1958|06-04         NaN    Mr.   \n",
       "3  770518e4-6133-648e-60c9-071eb2f0e2ce  1928|12-25  2017-09-29    Mr.   \n",
       "4  f96addf5-81b9-0aab-7855-d208d3d352c5  1928|12-25  2014-02-23    Mr.   \n",
       "\n",
       "           FIRST           LAST SUFFIX     MAIDEN MARITAL   RACE    ETHNICITY  \\\n",
       "0     Nikita578       Erdman779    NaN  Leannon79       M  white  nonhispanic   \n",
       "1       Zane918   Hodkiewicz467    NaN        NaN       M  white  nonhispanic   \n",
       "2      Quinn173    Marquardt819    NaN        NaN       M  white  nonhispanic   \n",
       "3       Abel832      Smitham825    NaN        NaN       M  white     hispanic   \n",
       "4      Edwin773      Labadie908    NaN        NaN       M  white     hispanic   \n",
       "\n",
       "  GENDER                    BIRTHPLACE                       ADDRESS    CITY  \\\n",
       "0    NaN  Wakefield  Massachusetts  US    510 Little Station Unit 69  Quincy   \n",
       "1      M  Brookline  Massachusetts  US           747 Conn Throughway  Boston   \n",
       "2    NaN    Gardner  Massachusetts  US  816 Okuneva Extension Apt 91  Quincy   \n",
       "3      M   Randolph  Massachusetts  US          127 Cole Way Unit 95  Boston   \n",
       "4    NaN       Stow  Massachusetts  US           976 Ziemann Gateway  Boston   \n",
       "\n",
       "           STATE          COUNTY     ZIP        LAT        LON  \n",
       "0  Massachusetts  Norfolk County  2186.0  42.290937 -70.975503  \n",
       "1  Massachusetts  Suffolk County  2135.0  42.308831 -71.063162  \n",
       "2  Massachusetts  Norfolk County  2170.0  42.265177 -70.967085  \n",
       "3  Massachusetts  Suffolk County  2118.0  42.334304 -71.066801  \n",
       "4  Massachusetts  Suffolk County  2125.0  42.346771 -71.058813  "
      ]
     },
     "execution_count": 8,
     "metadata": {},
     "output_type": "execute_result"
    }
   ],
   "source": [
    "# Handle duplicates\n",
    "patients_df = handle_duplicates(patients_df, duplicates_file_path)\n",
    "patients_df.head()\n"
   ]
  },
  {
   "cell_type": "markdown",
   "metadata": {},
   "source": [
    "**missing values information**"
   ]
  },
  {
   "cell_type": "code",
   "execution_count": 9,
   "metadata": {},
   "outputs": [
    {
     "data": {
      "text/plain": [
       "'c:\\\\Users\\\\dell\\\\Desktop\\\\Patient_Records\\\\work\\\\patient_missing_info.csv'"
      ]
     },
     "execution_count": 9,
     "metadata": {},
     "output_type": "execute_result"
    }
   ],
   "source": [
    "missing_info_file = \"Data_Anomalies\\\\patient_missing_info.csv\"\n",
    "# Get the current directory (optional, for relative paths)\n",
    "current_directory = os.getcwd()\n",
    "# Combine the current directory with file names (optional, for relative paths)\n",
    "missing_file_path = os.path.join(current_directory, missing_info_file)\n",
    "missing_file_path"
   ]
  },
  {
   "cell_type": "code",
   "execution_count": 10,
   "metadata": {},
   "outputs": [
    {
     "name": "stdout",
     "output_type": "stream",
     "text": [
      "Missing values information saved to c:\\Users\\dell\\Desktop\\Patient_Records\\work\\patient_missing_info.csv.\n"
     ]
    }
   ],
   "source": [
    "# Save missing values information\n",
    "save_missing_values_info(patients_df, missing_file_path)"
   ]
  },
  {
   "cell_type": "markdown",
   "metadata": {},
   "source": [
    "**Rows with missing valeus**"
   ]
  },
  {
   "cell_type": "code",
   "execution_count": 11,
   "metadata": {},
   "outputs": [
    {
     "name": "stdout",
     "output_type": "stream",
     "text": [
      "Rows with missing values saved to c:\\Users\\dell\\Desktop\\Patient_Records\\work\\patient_rows_with_missing.csv.\n"
     ]
    }
   ],
   "source": [
    "rows_with_missing_file = \"Data_Anomalies\\\\patient_rows_with_missing.csv\"\n",
    "rows_with_missing_file_path = os.path.join(current_directory, rows_with_missing_file)\n",
    "# Save rows with missing values in columns that contain missing values\n",
    "df_rows_with_missing = save_rows_with_missing_values(patients_df, rows_with_missing_file_path)"
   ]
  },
  {
   "cell_type": "markdown",
   "metadata": {},
   "source": [
    "**Fill missing values in the 'GENDER' column using the 'PREFIX' column**"
   ]
  },
  {
   "cell_type": "code",
   "execution_count": 12,
   "metadata": {},
   "outputs": [
    {
     "data": {
      "text/plain": [
       "array(['Mrs.', 'Mr.', 'Ms.'], dtype=object)"
      ]
     },
     "execution_count": 12,
     "metadata": {},
     "output_type": "execute_result"
    }
   ],
   "source": [
    "patients_df['PREFIX'].unique()"
   ]
  },
  {
   "cell_type": "code",
   "execution_count": 13,
   "metadata": {},
   "outputs": [
    {
     "data": {
      "text/plain": [
       "array([nan, 'M', 'F'], dtype=object)"
      ]
     },
     "execution_count": 13,
     "metadata": {},
     "output_type": "execute_result"
    }
   ],
   "source": [
    "patients_df['GENDER'].unique()"
   ]
  },
  {
   "cell_type": "code",
   "execution_count": 14,
   "metadata": {},
   "outputs": [],
   "source": [
    "# Fill missing values in the 'GENDER' column using the 'PREFIX' column\n",
    "patients_df = fillna_with_prefix(patients_df)"
   ]
  },
  {
   "cell_type": "code",
   "execution_count": 15,
   "metadata": {},
   "outputs": [],
   "source": [
    "# Define the date columns and their formats\n",
    "date_columns = {\n",
    "    'BIRTHDATE': '%Y-%m-%d',  # Assuming 'BIRTHDATE' is already formatted with hyphens\n",
    "    'DEATHDATE': '%Y-%m-%d',\n",
    "}\n",
    "# Clean and convert date columns\n",
    "patients_df = clean_dates(patients_df, date_columns)"
   ]
  },
  {
   "cell_type": "code",
   "execution_count": 16,
   "metadata": {},
   "outputs": [
    {
     "name": "stdout",
     "output_type": "stream",
     "text": [
      "Correlation Matrix:\n",
      "          ZIP       LAT       LON\n",
      "ZIP  1.000000 -0.003689 -0.215048\n",
      "LAT -0.003689  1.000000 -0.483370\n",
      "LON -0.215048 -0.483370  1.000000\n"
     ]
    }
   ],
   "source": [
    "# Display the correlation matrix\n",
    "display_correlation(patients_df)"
   ]
  },
  {
   "cell_type": "code",
   "execution_count": 17,
   "metadata": {},
   "outputs": [
    {
     "data": {
      "image/png": "[encoded data removed]",
      "text/plain": [
       "<Figure size 1000x600 with 1 Axes>"
      ]
     },
     "metadata": {},
     "output_type": "display_data"
    }
   ],
   "source": [
    "# Plot boxplot of BirthDate\n",
    "plot_boxplot(patients_df, 'BIRTHDATE', 'Boxplot of BIRTHDATE Dates')"
   ]
  },
  {
   "cell_type": "code",
   "execution_count": 18,
   "metadata": {},
   "outputs": [
    {
     "name": "stdout",
     "output_type": "stream",
     "text": [
      "DataFrame saved to work\\outliers_birthdate.csv.\n",
      "Identified 3 outlier rows. Outliers saved to work\\outliers_birthdate.csv.\n"
     ]
    }
   ],
   "source": [
    "# Filter out outliers and clean DataFrame\n",
    "outliers_file_path = 'Data_Anomalies\\\\outliers_birthdate.csv'\n",
    "patients_df = filter_outliers_and_save(patients_df, 'BIRTHDATE', outliers_file_path)\n"
   ]
  },
  {
   "cell_type": "code",
   "execution_count": 19,
   "metadata": {},
   "outputs": [
    {
     "data": {
      "image/png": "[encoded data removed]",
      "text/plain": [
       "<Figure size 1000x600 with 1 Axes>"
      ]
     },
     "metadata": {},
     "output_type": "display_data"
    }
   ],
   "source": [
    "plot_boxplot(patients_df, 'BIRTHDATE', 'Boxplot of BIRTHDATE Dates')"
   ]
  },
  {
   "cell_type": "code",
   "execution_count": 20,
   "metadata": {},
   "outputs": [
    {
     "data": {
      "image/png": "[encoded data removed]",
      "text/plain": [
       "<Figure size 1000x600 with 1 Axes>"
      ]
     },
     "metadata": {},
     "output_type": "display_data"
    }
   ],
   "source": [
    "plot_boxplot(patients_df, 'DEATHDATE', 'Boxplot of DEATHDATE Dates')"
   ]
  },
  {
   "cell_type": "code",
   "execution_count": 21,
   "metadata": {},
   "outputs": [
    {
     "name": "stdout",
     "output_type": "stream",
     "text": [
      "DataFrame Info:\n",
      "<class 'pandas.core.frame.DataFrame'>\n",
      "Index: 974 entries, 0 to 973\n",
      "Data columns (total 20 columns):\n",
      " #   Column      Non-Null Count  Dtype         \n",
      "---  ------      --------------  -----         \n",
      " 0   Id          974 non-null    object        \n",
      " 1   BIRTHDATE   965 non-null    datetime64[ns]\n",
      " 2   DEATHDATE   154 non-null    datetime64[ns]\n",
      " 3   PREFIX      974 non-null    object        \n",
      " 4   FIRST       974 non-null    object        \n",
      " 5   LAST        974 non-null    object        \n",
      " 6   SUFFIX      21 non-null     object        \n",
      " 7   MAIDEN      386 non-null    object        \n",
      " 8   MARITAL     973 non-null    object        \n",
      " 9   RACE        974 non-null    object        \n",
      " 10  ETHNICITY   974 non-null    object        \n",
      " 11  GENDER      974 non-null    object        \n",
      " 12  BIRTHPLACE  974 non-null    object        \n",
      " 13  ADDRESS     974 non-null    object        \n",
      " 14  CITY        974 non-null    object        \n",
      " 15  STATE       974 non-null    object        \n",
      " 16  COUNTY      974 non-null    object        \n",
      " 17  ZIP         832 non-null    float64       \n",
      " 18  LAT         974 non-null    float64       \n",
      " 19  LON         974 non-null    float64       \n",
      "dtypes: datetime64[ns](2), float64(3), object(15)\n",
      "memory usage: 192.1+ KB\n",
      "None\n"
     ]
    }
   ],
   "source": [
    "# Display basic information about the DataFrame\n",
    "display_info(patients_df)"
   ]
  },
  {
   "cell_type": "code",
   "execution_count": 53,
   "metadata": {},
   "outputs": [
    {
     "data": {
      "text/plain": [
       "'c:\\\\Users\\\\dell\\\\Desktop\\\\Patient_Records\\\\clean\\\\cleaned_patients.csv'"
      ]
     },
     "execution_count": 53,
     "metadata": {},
     "output_type": "execute_result"
    }
   ],
   "source": [
    "output_file = 'clean\\\\cleaned_patients.csv'\n",
    "# Get the current directory (optional, for relative paths)\n",
    "current_directory = os.getcwd()\n",
    "# Combine the current directory with file names (optional, for relative paths)\n",
    "output_file_path = os.path.join(current_directory, output_file)\n",
    "output_file_path"
   ]
  },
  {
   "cell_type": "code",
   "execution_count": 23,
   "metadata": {},
   "outputs": [
    {
     "name": "stdout",
     "output_type": "stream",
     "text": [
      "DataFrame saved to c:\\Users\\dell\\Desktop\\Patient_Records\\clean\\cleaned_patients.csv.\n"
     ]
    }
   ],
   "source": [
    "# Save the cleaned DataFrame to a CSV file\n",
    "save_dataframe(patients_df, output_file_path)"
   ]
  },
  {
   "cell_type": "markdown",
   "metadata": {},
   "source": [
    "<a id='1'></a>\n",
    "# <p style=\"background-color:white; font-family:newtimeroman; font-size:150%; text-align:center\">1. 📊 Encounters 📚</p>"
   ]
  },
  {
   "cell_type": "code",
   "execution_count": 24,
   "metadata": {},
   "outputs": [
    {
     "data": {
      "text/html": [
       "<div>\n",
       "<style scoped>\n",
       "    .dataframe tbody tr th:only-of-type {\n",
       "        vertical-align: middle;\n",
       "    }\n",
       "\n",
       "    .dataframe tbody tr th {\n",
       "        vertical-align: top;\n",
       "    }\n",
       "\n",
       "    .dataframe thead th {\n",
       "        text-align: right;\n",
       "    }\n",
       "</style>\n",
       "<table border=\"1\" class=\"dataframe\">\n",
       "  <thead>\n",
       "    <tr style=\"text-align: right;\">\n",
       "      <th></th>\n",
       "      <th>Id</th>\n",
       "      <th>START</th>\n",
       "      <th>STOP</th>\n",
       "      <th>PATIENT</th>\n",
       "      <th>ORGANIZATION</th>\n",
       "      <th>PAYER</th>\n",
       "      <th>ENCOUNTERCLASS</th>\n",
       "      <th>CODE</th>\n",
       "      <th>DESCRIPTION</th>\n",
       "      <th>BASE_ENCOUNTER_COST</th>\n",
       "      <th>TOTAL_CLAIM_COST</th>\n",
       "      <th>PAYER_COVERAGE</th>\n",
       "      <th>REASONCODE</th>\n",
       "      <th>REASONDESCRIPTION</th>\n",
       "    </tr>\n",
       "  </thead>\n",
       "  <tbody>\n",
       "    <tr>\n",
       "      <th>0</th>\n",
       "      <td>32c84703-2481-49cd-d571-3899d5820253</td>\n",
       "      <td>2011|01|02T09:26:36Z</td>\n",
       "      <td>2011-01-02T12:58:36Z</td>\n",
       "      <td>3de74169-7f67-9304-91d4-757e0f3a14d2</td>\n",
       "      <td>d78e84ec-30aa-3bba-a33a-f29a3a454662</td>\n",
       "      <td>b1c428d6-4f07-31e0-90f0-68ffa6ff8c76</td>\n",
       "      <td>ambulatory</td>\n",
       "      <td>185347001</td>\n",
       "      <td>Encounter for problem (procedure)</td>\n",
       "      <td>85.55</td>\n",
       "      <td>1018,02</td>\n",
       "      <td>0.00</td>\n",
       "      <td>NaN</td>\n",
       "      <td>NaN</td>\n",
       "    </tr>\n",
       "    <tr>\n",
       "      <th>1</th>\n",
       "      <td>c98059da-320a-c0a6-fced-c8815f3e3f39</td>\n",
       "      <td>2011|01|03T05:44:39Z</td>\n",
       "      <td>2011-01-03T06:01:42Z</td>\n",
       "      <td>d9ec2e44-32e9-9148-179a-1653348cc4e2</td>\n",
       "      <td>d78e84ec-30aa-3bba-a33a-f29a3a454662</td>\n",
       "      <td>b1c428d6-4f07-31e0-90f0-68ffa6ff8c76</td>\n",
       "      <td>outpatient</td>\n",
       "      <td>308335008</td>\n",
       "      <td>Patient encounter procedure</td>\n",
       "      <td>142.58</td>\n",
       "      <td>2619,36</td>\n",
       "      <td>0.00</td>\n",
       "      <td>NaN</td>\n",
       "      <td>NaN</td>\n",
       "    </tr>\n",
       "    <tr>\n",
       "      <th>2</th>\n",
       "      <td>4ad28a3a-2479-782b-f29c-d5b3f41a001e</td>\n",
       "      <td>2011|01|03T14:32:11Z</td>\n",
       "      <td>2011-01-03T14:47:11Z</td>\n",
       "      <td>73babadf-5b2b-fee7-189e-6f41ff213e01</td>\n",
       "      <td>d78e84ec-30aa-3bba-a33a-f29a3a454662</td>\n",
       "      <td>7caa7254-5050-3b5e-9eae-bd5ea30e809c</td>\n",
       "      <td>outpatient</td>\n",
       "      <td>185349003</td>\n",
       "      <td>Encounter for check up (procedure)</td>\n",
       "      <td>85.55</td>\n",
       "      <td>461,59</td>\n",
       "      <td>305.27</td>\n",
       "      <td>NaN</td>\n",
       "      <td>NaN</td>\n",
       "    </tr>\n",
       "    <tr>\n",
       "      <th>3</th>\n",
       "      <td>c3f4da61-e4b4-21d5-587a-fbc89943bc19</td>\n",
       "      <td>2011|01|03T16:24:45Z</td>\n",
       "      <td>2011-01-03T16:39:45Z</td>\n",
       "      <td>3b46a0b7-0f34-9b9a-c319-ace4a1f58c0b</td>\n",
       "      <td>d78e84ec-30aa-3bba-a33a-f29a3a454662</td>\n",
       "      <td>b1c428d6-4f07-31e0-90f0-68ffa6ff8c76</td>\n",
       "      <td>wellness</td>\n",
       "      <td>162673000</td>\n",
       "      <td>General examination of patient (procedure)</td>\n",
       "      <td>136.80</td>\n",
       "      <td>1784,24</td>\n",
       "      <td>0.00</td>\n",
       "      <td>NaN</td>\n",
       "      <td>NaN</td>\n",
       "    </tr>\n",
       "    <tr>\n",
       "      <th>4</th>\n",
       "      <td>a9183b4f-2572-72ea-54c2-b3cd038b4be7</td>\n",
       "      <td>2011|01|03T17:36:53Z</td>\n",
       "      <td>2011-01-03T17:51:53Z</td>\n",
       "      <td>fa006887-d93c-d302-8b89-f3c25f88c0e1</td>\n",
       "      <td>d78e84ec-30aa-3bba-a33a-f29a3a454662</td>\n",
       "      <td>42c4fca7-f8a9-3cd1-982a-dd9751bf3e2a</td>\n",
       "      <td>ambulatory</td>\n",
       "      <td>390906007</td>\n",
       "      <td>Follow-up encounter</td>\n",
       "      <td>85.55</td>\n",
       "      <td>234,72</td>\n",
       "      <td>0.00</td>\n",
       "      <td>55822004.0</td>\n",
       "      <td>Hyperlipidemia</td>\n",
       "    </tr>\n",
       "  </tbody>\n",
       "</table>\n",
       "</div>"
      ],
      "text/plain": [
       "                                     Id                 START  \\\n",
       "0  32c84703-2481-49cd-d571-3899d5820253  2011|01|02T09:26:36Z   \n",
       "1  c98059da-320a-c0a6-fced-c8815f3e3f39  2011|01|03T05:44:39Z   \n",
       "2  4ad28a3a-2479-782b-f29c-d5b3f41a001e  2011|01|03T14:32:11Z   \n",
       "3  c3f4da61-e4b4-21d5-587a-fbc89943bc19  2011|01|03T16:24:45Z   \n",
       "4  a9183b4f-2572-72ea-54c2-b3cd038b4be7  2011|01|03T17:36:53Z   \n",
       "\n",
       "                   STOP                               PATIENT  \\\n",
       "0  2011-01-02T12:58:36Z  3de74169-7f67-9304-91d4-757e0f3a14d2   \n",
       "1  2011-01-03T06:01:42Z  d9ec2e44-32e9-9148-179a-1653348cc4e2   \n",
       "2  2011-01-03T14:47:11Z  73babadf-5b2b-fee7-189e-6f41ff213e01   \n",
       "3  2011-01-03T16:39:45Z  3b46a0b7-0f34-9b9a-c319-ace4a1f58c0b   \n",
       "4  2011-01-03T17:51:53Z  fa006887-d93c-d302-8b89-f3c25f88c0e1   \n",
       "\n",
       "                           ORGANIZATION                                 PAYER  \\\n",
       "0  d78e84ec-30aa-3bba-a33a-f29a3a454662  b1c428d6-4f07-31e0-90f0-68ffa6ff8c76   \n",
       "1  d78e84ec-30aa-3bba-a33a-f29a3a454662  b1c428d6-4f07-31e0-90f0-68ffa6ff8c76   \n",
       "2  d78e84ec-30aa-3bba-a33a-f29a3a454662  7caa7254-5050-3b5e-9eae-bd5ea30e809c   \n",
       "3  d78e84ec-30aa-3bba-a33a-f29a3a454662  b1c428d6-4f07-31e0-90f0-68ffa6ff8c76   \n",
       "4  d78e84ec-30aa-3bba-a33a-f29a3a454662  42c4fca7-f8a9-3cd1-982a-dd9751bf3e2a   \n",
       "\n",
       "  ENCOUNTERCLASS       CODE                                 DESCRIPTION  \\\n",
       "0     ambulatory  185347001           Encounter for problem (procedure)   \n",
       "1     outpatient  308335008                 Patient encounter procedure   \n",
       "2     outpatient  185349003          Encounter for check up (procedure)   \n",
       "3       wellness  162673000  General examination of patient (procedure)   \n",
       "4     ambulatory  390906007                         Follow-up encounter   \n",
       "\n",
       "   BASE_ENCOUNTER_COST TOTAL_CLAIM_COST  PAYER_COVERAGE  REASONCODE  \\\n",
       "0                85.55          1018,02            0.00         NaN   \n",
       "1               142.58          2619,36            0.00         NaN   \n",
       "2                85.55           461,59          305.27         NaN   \n",
       "3               136.80          1784,24            0.00         NaN   \n",
       "4                85.55           234,72            0.00  55822004.0   \n",
       "\n",
       "  REASONDESCRIPTION  \n",
       "0               NaN  \n",
       "1               NaN  \n",
       "2               NaN  \n",
       "3               NaN  \n",
       "4    Hyperlipidemia  "
      ]
     },
     "execution_count": 24,
     "metadata": {},
     "output_type": "execute_result"
    }
   ],
   "source": [
    "# Get the current working directory\n",
    "current_directory = os.getcwd()\n",
    "\n",
    "# Name of the file you want to read\n",
    "encounters_file_name = 'encounters.csv'\n",
    "\n",
    "# Create the full file path\n",
    "encounters_file_path = os.path.join(current_directory, encounters_file_name)\n",
    "# Load the data\n",
    "\n",
    "encounters_df = load_csv(encounters_file_path)\n",
    "encounters_df.head(5)"
   ]
  },
  {
   "cell_type": "code",
   "execution_count": 25,
   "metadata": {},
   "outputs": [
    {
     "name": "stdout",
     "output_type": "stream",
     "text": [
      "DataFrame Info:\n",
      "<class 'pandas.core.frame.DataFrame'>\n",
      "RangeIndex: 27891 entries, 0 to 27890\n",
      "Data columns (total 14 columns):\n",
      " #   Column               Non-Null Count  Dtype  \n",
      "---  ------               --------------  -----  \n",
      " 0   Id                   27891 non-null  object \n",
      " 1   START                27891 non-null  object \n",
      " 2   STOP                 27891 non-null  object \n",
      " 3   PATIENT              27891 non-null  object \n",
      " 4   ORGANIZATION         27891 non-null  object \n",
      " 5   PAYER                27891 non-null  object \n",
      " 6   ENCOUNTERCLASS       27891 non-null  object \n",
      " 7   CODE                 27891 non-null  int64  \n",
      " 8   DESCRIPTION          27891 non-null  object \n",
      " 9   BASE_ENCOUNTER_COST  27891 non-null  float64\n",
      " 10  TOTAL_CLAIM_COST     27891 non-null  object \n",
      " 11  PAYER_COVERAGE       27891 non-null  float64\n",
      " 12  REASONCODE           8350 non-null   float64\n",
      " 13  REASONDESCRIPTION    8350 non-null   object \n",
      "dtypes: float64(3), int64(1), object(10)\n",
      "memory usage: 3.0+ MB\n",
      "None\n"
     ]
    }
   ],
   "source": [
    "# Display basic information about the DataFrame\n",
    "display_info(encounters_df)"
   ]
  },
  {
   "cell_type": "code",
   "execution_count": 26,
   "metadata": {},
   "outputs": [
    {
     "name": "stdout",
     "output_type": "stream",
     "text": [
      "Descriptive Statistics:\n",
      "               CODE  BASE_ENCOUNTER_COST  PAYER_COVERAGE    REASONCODE\n",
      "count  2.789100e+04         27891.000000    27891.000000  8.350000e+03\n",
      "mean   2.972670e+08           116.181614     1114.965652  4.750331e+11\n",
      "std    2.017839e+08            28.410082     4768.615576  5.871996e+12\n",
      "min    1.505002e+06            85.550000        0.000000  5.602001e+06\n",
      "25%    1.853450e+08            85.550000        0.000000  5.582200e+07\n",
      "50%    1.853490e+08           136.800000       28.440000  8.880501e+07\n",
      "75%    4.244410e+08           142.580000      155.770000  1.956620e+08\n",
      "max    7.029270e+08           146.180000   247751.420000  1.240000e+14\n"
     ]
    }
   ],
   "source": [
    "# Display descriptive statistics of the DataFrame\n",
    "display_description(encounters_df)"
   ]
  },
  {
   "cell_type": "markdown",
   "metadata": {},
   "source": [
    "# Handle duplicates"
   ]
  },
  {
   "cell_type": "code",
   "execution_count": 27,
   "metadata": {},
   "outputs": [
    {
     "data": {
      "text/plain": [
       "'c:\\\\Users\\\\dell\\\\Desktop\\\\Patient_Records\\\\work\\\\encounters_duplicates.csv'"
      ]
     },
     "execution_count": 27,
     "metadata": {},
     "output_type": "execute_result"
    }
   ],
   "source": [
    "duplicates_file = \"Data_Anomalies\\\\encounters_duplicates.csv\"\n",
    "# Get the current directory (optional, for relative paths)\n",
    "current_directory = os.getcwd()\n",
    "# Combine the current directory with file names (optional, for relative paths)\n",
    "duplicates_file_path = os.path.join(current_directory, duplicates_file)\n",
    "duplicates_file_path"
   ]
  },
  {
   "cell_type": "code",
   "execution_count": 28,
   "metadata": {},
   "outputs": [
    {
     "name": "stdout",
     "output_type": "stream",
     "text": [
      "No duplicate rows found.\n"
     ]
    }
   ],
   "source": [
    "encounters_df = handle_duplicates(encounters_df, duplicates_file_path)"
   ]
  },
  {
   "cell_type": "markdown",
   "metadata": {},
   "source": [
    "# Handle missing valeus"
   ]
  },
  {
   "cell_type": "code",
   "execution_count": 29,
   "metadata": {},
   "outputs": [
    {
     "data": {
      "text/plain": [
       "'c:\\\\Users\\\\dell\\\\Desktop\\\\Patient_Records\\\\work\\\\encounters_missing_info.csv'"
      ]
     },
     "execution_count": 29,
     "metadata": {},
     "output_type": "execute_result"
    }
   ],
   "source": [
    "encounters_missing_info_file = \"Data_Anomalies\\\\encounters_missing_info.csv\"\n",
    "# Get the current directory (optional, for relative paths)\n",
    "current_directory = os.getcwd()\n",
    "# Combine the current directory with file names (optional, for relative paths)\n",
    "encounters_missing_file_path = os.path.join(current_directory, encounters_missing_info_file)\n",
    "encounters_missing_file_path"
   ]
  },
  {
   "cell_type": "code",
   "execution_count": 30,
   "metadata": {},
   "outputs": [
    {
     "name": "stdout",
     "output_type": "stream",
     "text": [
      "Missing values information saved to c:\\Users\\dell\\Desktop\\Patient_Records\\work\\encounters_missing_info.csv.\n"
     ]
    }
   ],
   "source": [
    "# Save missing values information\n",
    "save_missing_values_info(encounters_df, encounters_missing_file_path)"
   ]
  },
  {
   "cell_type": "code",
   "execution_count": 31,
   "metadata": {},
   "outputs": [
    {
     "data": {
      "text/html": [
       "<div>\n",
       "<style scoped>\n",
       "    .dataframe tbody tr th:only-of-type {\n",
       "        vertical-align: middle;\n",
       "    }\n",
       "\n",
       "    .dataframe tbody tr th {\n",
       "        vertical-align: top;\n",
       "    }\n",
       "\n",
       "    .dataframe thead th {\n",
       "        text-align: right;\n",
       "    }\n",
       "</style>\n",
       "<table border=\"1\" class=\"dataframe\">\n",
       "  <thead>\n",
       "    <tr style=\"text-align: right;\">\n",
       "      <th></th>\n",
       "      <th>Id</th>\n",
       "      <th>START</th>\n",
       "      <th>STOP</th>\n",
       "      <th>PATIENT</th>\n",
       "      <th>ORGANIZATION</th>\n",
       "      <th>PAYER</th>\n",
       "      <th>ENCOUNTERCLASS</th>\n",
       "      <th>CODE</th>\n",
       "      <th>DESCRIPTION</th>\n",
       "      <th>BASE_ENCOUNTER_COST</th>\n",
       "      <th>TOTAL_CLAIM_COST</th>\n",
       "      <th>PAYER_COVERAGE</th>\n",
       "      <th>REASONCODE</th>\n",
       "      <th>REASONDESCRIPTION</th>\n",
       "    </tr>\n",
       "  </thead>\n",
       "  <tbody>\n",
       "    <tr>\n",
       "      <th>0</th>\n",
       "      <td>32c84703-2481-49cd-d571-3899d5820253</td>\n",
       "      <td>2011|01|02T09:26:36Z</td>\n",
       "      <td>2011-01-02T12:58:36Z</td>\n",
       "      <td>3de74169-7f67-9304-91d4-757e0f3a14d2</td>\n",
       "      <td>d78e84ec-30aa-3bba-a33a-f29a3a454662</td>\n",
       "      <td>b1c428d6-4f07-31e0-90f0-68ffa6ff8c76</td>\n",
       "      <td>ambulatory</td>\n",
       "      <td>185347001</td>\n",
       "      <td>Encounter for problem (procedure)</td>\n",
       "      <td>85.55</td>\n",
       "      <td>1018,02</td>\n",
       "      <td>0.00</td>\n",
       "      <td>NaN</td>\n",
       "      <td>NaN</td>\n",
       "    </tr>\n",
       "    <tr>\n",
       "      <th>1</th>\n",
       "      <td>c98059da-320a-c0a6-fced-c8815f3e3f39</td>\n",
       "      <td>2011|01|03T05:44:39Z</td>\n",
       "      <td>2011-01-03T06:01:42Z</td>\n",
       "      <td>d9ec2e44-32e9-9148-179a-1653348cc4e2</td>\n",
       "      <td>d78e84ec-30aa-3bba-a33a-f29a3a454662</td>\n",
       "      <td>b1c428d6-4f07-31e0-90f0-68ffa6ff8c76</td>\n",
       "      <td>outpatient</td>\n",
       "      <td>308335008</td>\n",
       "      <td>Patient encounter procedure</td>\n",
       "      <td>142.58</td>\n",
       "      <td>2619,36</td>\n",
       "      <td>0.00</td>\n",
       "      <td>NaN</td>\n",
       "      <td>NaN</td>\n",
       "    </tr>\n",
       "    <tr>\n",
       "      <th>2</th>\n",
       "      <td>4ad28a3a-2479-782b-f29c-d5b3f41a001e</td>\n",
       "      <td>2011|01|03T14:32:11Z</td>\n",
       "      <td>2011-01-03T14:47:11Z</td>\n",
       "      <td>73babadf-5b2b-fee7-189e-6f41ff213e01</td>\n",
       "      <td>d78e84ec-30aa-3bba-a33a-f29a3a454662</td>\n",
       "      <td>7caa7254-5050-3b5e-9eae-bd5ea30e809c</td>\n",
       "      <td>outpatient</td>\n",
       "      <td>185349003</td>\n",
       "      <td>Encounter for check up (procedure)</td>\n",
       "      <td>85.55</td>\n",
       "      <td>461,59</td>\n",
       "      <td>305.27</td>\n",
       "      <td>NaN</td>\n",
       "      <td>NaN</td>\n",
       "    </tr>\n",
       "    <tr>\n",
       "      <th>3</th>\n",
       "      <td>c3f4da61-e4b4-21d5-587a-fbc89943bc19</td>\n",
       "      <td>2011|01|03T16:24:45Z</td>\n",
       "      <td>2011-01-03T16:39:45Z</td>\n",
       "      <td>3b46a0b7-0f34-9b9a-c319-ace4a1f58c0b</td>\n",
       "      <td>d78e84ec-30aa-3bba-a33a-f29a3a454662</td>\n",
       "      <td>b1c428d6-4f07-31e0-90f0-68ffa6ff8c76</td>\n",
       "      <td>wellness</td>\n",
       "      <td>162673000</td>\n",
       "      <td>General examination of patient (procedure)</td>\n",
       "      <td>136.80</td>\n",
       "      <td>1784,24</td>\n",
       "      <td>0.00</td>\n",
       "      <td>NaN</td>\n",
       "      <td>NaN</td>\n",
       "    </tr>\n",
       "    <tr>\n",
       "      <th>4</th>\n",
       "      <td>a9183b4f-2572-72ea-54c2-b3cd038b4be7</td>\n",
       "      <td>2011|01|03T17:36:53Z</td>\n",
       "      <td>2011-01-03T17:51:53Z</td>\n",
       "      <td>fa006887-d93c-d302-8b89-f3c25f88c0e1</td>\n",
       "      <td>d78e84ec-30aa-3bba-a33a-f29a3a454662</td>\n",
       "      <td>42c4fca7-f8a9-3cd1-982a-dd9751bf3e2a</td>\n",
       "      <td>ambulatory</td>\n",
       "      <td>390906007</td>\n",
       "      <td>Follow-up encounter</td>\n",
       "      <td>85.55</td>\n",
       "      <td>234,72</td>\n",
       "      <td>0.00</td>\n",
       "      <td>55822004.0</td>\n",
       "      <td>Hyperlipidemia</td>\n",
       "    </tr>\n",
       "  </tbody>\n",
       "</table>\n",
       "</div>"
      ],
      "text/plain": [
       "                                     Id                 START  \\\n",
       "0  32c84703-2481-49cd-d571-3899d5820253  2011|01|02T09:26:36Z   \n",
       "1  c98059da-320a-c0a6-fced-c8815f3e3f39  2011|01|03T05:44:39Z   \n",
       "2  4ad28a3a-2479-782b-f29c-d5b3f41a001e  2011|01|03T14:32:11Z   \n",
       "3  c3f4da61-e4b4-21d5-587a-fbc89943bc19  2011|01|03T16:24:45Z   \n",
       "4  a9183b4f-2572-72ea-54c2-b3cd038b4be7  2011|01|03T17:36:53Z   \n",
       "\n",
       "                   STOP                               PATIENT  \\\n",
       "0  2011-01-02T12:58:36Z  3de74169-7f67-9304-91d4-757e0f3a14d2   \n",
       "1  2011-01-03T06:01:42Z  d9ec2e44-32e9-9148-179a-1653348cc4e2   \n",
       "2  2011-01-03T14:47:11Z  73babadf-5b2b-fee7-189e-6f41ff213e01   \n",
       "3  2011-01-03T16:39:45Z  3b46a0b7-0f34-9b9a-c319-ace4a1f58c0b   \n",
       "4  2011-01-03T17:51:53Z  fa006887-d93c-d302-8b89-f3c25f88c0e1   \n",
       "\n",
       "                           ORGANIZATION                                 PAYER  \\\n",
       "0  d78e84ec-30aa-3bba-a33a-f29a3a454662  b1c428d6-4f07-31e0-90f0-68ffa6ff8c76   \n",
       "1  d78e84ec-30aa-3bba-a33a-f29a3a454662  b1c428d6-4f07-31e0-90f0-68ffa6ff8c76   \n",
       "2  d78e84ec-30aa-3bba-a33a-f29a3a454662  7caa7254-5050-3b5e-9eae-bd5ea30e809c   \n",
       "3  d78e84ec-30aa-3bba-a33a-f29a3a454662  b1c428d6-4f07-31e0-90f0-68ffa6ff8c76   \n",
       "4  d78e84ec-30aa-3bba-a33a-f29a3a454662  42c4fca7-f8a9-3cd1-982a-dd9751bf3e2a   \n",
       "\n",
       "  ENCOUNTERCLASS       CODE                                 DESCRIPTION  \\\n",
       "0     ambulatory  185347001           Encounter for problem (procedure)   \n",
       "1     outpatient  308335008                 Patient encounter procedure   \n",
       "2     outpatient  185349003          Encounter for check up (procedure)   \n",
       "3       wellness  162673000  General examination of patient (procedure)   \n",
       "4     ambulatory  390906007                         Follow-up encounter   \n",
       "\n",
       "   BASE_ENCOUNTER_COST TOTAL_CLAIM_COST  PAYER_COVERAGE  REASONCODE  \\\n",
       "0                85.55          1018,02            0.00         NaN   \n",
       "1               142.58          2619,36            0.00         NaN   \n",
       "2                85.55           461,59          305.27         NaN   \n",
       "3               136.80          1784,24            0.00         NaN   \n",
       "4                85.55           234,72            0.00  55822004.0   \n",
       "\n",
       "  REASONDESCRIPTION  \n",
       "0               NaN  \n",
       "1               NaN  \n",
       "2               NaN  \n",
       "3               NaN  \n",
       "4    Hyperlipidemia  "
      ]
     },
     "execution_count": 31,
     "metadata": {},
     "output_type": "execute_result"
    }
   ],
   "source": [
    "encounters_df.head(5)"
   ]
  },
  {
   "cell_type": "markdown",
   "metadata": {},
   "source": [
    "# Date time"
   ]
  },
  {
   "cell_type": "code",
   "execution_count": 32,
   "metadata": {},
   "outputs": [
    {
     "data": {
      "text/html": [
       "<div>\n",
       "<style scoped>\n",
       "    .dataframe tbody tr th:only-of-type {\n",
       "        vertical-align: middle;\n",
       "    }\n",
       "\n",
       "    .dataframe tbody tr th {\n",
       "        vertical-align: top;\n",
       "    }\n",
       "\n",
       "    .dataframe thead th {\n",
       "        text-align: right;\n",
       "    }\n",
       "</style>\n",
       "<table border=\"1\" class=\"dataframe\">\n",
       "  <thead>\n",
       "    <tr style=\"text-align: right;\">\n",
       "      <th></th>\n",
       "      <th>Id</th>\n",
       "      <th>START</th>\n",
       "      <th>STOP</th>\n",
       "      <th>PATIENT</th>\n",
       "      <th>ORGANIZATION</th>\n",
       "      <th>PAYER</th>\n",
       "      <th>ENCOUNTERCLASS</th>\n",
       "      <th>CODE</th>\n",
       "      <th>DESCRIPTION</th>\n",
       "      <th>BASE_ENCOUNTER_COST</th>\n",
       "      <th>TOTAL_CLAIM_COST</th>\n",
       "      <th>PAYER_COVERAGE</th>\n",
       "      <th>REASONCODE</th>\n",
       "      <th>REASONDESCRIPTION</th>\n",
       "    </tr>\n",
       "  </thead>\n",
       "  <tbody>\n",
       "    <tr>\n",
       "      <th>0</th>\n",
       "      <td>32c84703-2481-49cd-d571-3899d5820253</td>\n",
       "      <td>2011-01-02 09:26:36</td>\n",
       "      <td>2011-01-02 12:58:36</td>\n",
       "      <td>3de74169-7f67-9304-91d4-757e0f3a14d2</td>\n",
       "      <td>d78e84ec-30aa-3bba-a33a-f29a3a454662</td>\n",
       "      <td>b1c428d6-4f07-31e0-90f0-68ffa6ff8c76</td>\n",
       "      <td>ambulatory</td>\n",
       "      <td>185347001</td>\n",
       "      <td>Encounter for problem (procedure)</td>\n",
       "      <td>85.55</td>\n",
       "      <td>1018,02</td>\n",
       "      <td>0.00</td>\n",
       "      <td>NaN</td>\n",
       "      <td>NaN</td>\n",
       "    </tr>\n",
       "    <tr>\n",
       "      <th>1</th>\n",
       "      <td>c98059da-320a-c0a6-fced-c8815f3e3f39</td>\n",
       "      <td>2011-01-03 05:44:39</td>\n",
       "      <td>2011-01-03 06:01:42</td>\n",
       "      <td>d9ec2e44-32e9-9148-179a-1653348cc4e2</td>\n",
       "      <td>d78e84ec-30aa-3bba-a33a-f29a3a454662</td>\n",
       "      <td>b1c428d6-4f07-31e0-90f0-68ffa6ff8c76</td>\n",
       "      <td>outpatient</td>\n",
       "      <td>308335008</td>\n",
       "      <td>Patient encounter procedure</td>\n",
       "      <td>142.58</td>\n",
       "      <td>2619,36</td>\n",
       "      <td>0.00</td>\n",
       "      <td>NaN</td>\n",
       "      <td>NaN</td>\n",
       "    </tr>\n",
       "    <tr>\n",
       "      <th>2</th>\n",
       "      <td>4ad28a3a-2479-782b-f29c-d5b3f41a001e</td>\n",
       "      <td>2011-01-03 14:32:11</td>\n",
       "      <td>2011-01-03 14:47:11</td>\n",
       "      <td>73babadf-5b2b-fee7-189e-6f41ff213e01</td>\n",
       "      <td>d78e84ec-30aa-3bba-a33a-f29a3a454662</td>\n",
       "      <td>7caa7254-5050-3b5e-9eae-bd5ea30e809c</td>\n",
       "      <td>outpatient</td>\n",
       "      <td>185349003</td>\n",
       "      <td>Encounter for check up (procedure)</td>\n",
       "      <td>85.55</td>\n",
       "      <td>461,59</td>\n",
       "      <td>305.27</td>\n",
       "      <td>NaN</td>\n",
       "      <td>NaN</td>\n",
       "    </tr>\n",
       "    <tr>\n",
       "      <th>3</th>\n",
       "      <td>c3f4da61-e4b4-21d5-587a-fbc89943bc19</td>\n",
       "      <td>2011-01-03 16:24:45</td>\n",
       "      <td>2011-01-03 16:39:45</td>\n",
       "      <td>3b46a0b7-0f34-9b9a-c319-ace4a1f58c0b</td>\n",
       "      <td>d78e84ec-30aa-3bba-a33a-f29a3a454662</td>\n",
       "      <td>b1c428d6-4f07-31e0-90f0-68ffa6ff8c76</td>\n",
       "      <td>wellness</td>\n",
       "      <td>162673000</td>\n",
       "      <td>General examination of patient (procedure)</td>\n",
       "      <td>136.80</td>\n",
       "      <td>1784,24</td>\n",
       "      <td>0.00</td>\n",
       "      <td>NaN</td>\n",
       "      <td>NaN</td>\n",
       "    </tr>\n",
       "    <tr>\n",
       "      <th>4</th>\n",
       "      <td>a9183b4f-2572-72ea-54c2-b3cd038b4be7</td>\n",
       "      <td>2011-01-03 17:36:53</td>\n",
       "      <td>2011-01-03 17:51:53</td>\n",
       "      <td>fa006887-d93c-d302-8b89-f3c25f88c0e1</td>\n",
       "      <td>d78e84ec-30aa-3bba-a33a-f29a3a454662</td>\n",
       "      <td>42c4fca7-f8a9-3cd1-982a-dd9751bf3e2a</td>\n",
       "      <td>ambulatory</td>\n",
       "      <td>390906007</td>\n",
       "      <td>Follow-up encounter</td>\n",
       "      <td>85.55</td>\n",
       "      <td>234,72</td>\n",
       "      <td>0.00</td>\n",
       "      <td>55822004.0</td>\n",
       "      <td>Hyperlipidemia</td>\n",
       "    </tr>\n",
       "  </tbody>\n",
       "</table>\n",
       "</div>"
      ],
      "text/plain": [
       "                                     Id               START  \\\n",
       "0  32c84703-2481-49cd-d571-3899d5820253 2011-01-02 09:26:36   \n",
       "1  c98059da-320a-c0a6-fced-c8815f3e3f39 2011-01-03 05:44:39   \n",
       "2  4ad28a3a-2479-782b-f29c-d5b3f41a001e 2011-01-03 14:32:11   \n",
       "3  c3f4da61-e4b4-21d5-587a-fbc89943bc19 2011-01-03 16:24:45   \n",
       "4  a9183b4f-2572-72ea-54c2-b3cd038b4be7 2011-01-03 17:36:53   \n",
       "\n",
       "                 STOP                               PATIENT  \\\n",
       "0 2011-01-02 12:58:36  3de74169-7f67-9304-91d4-757e0f3a14d2   \n",
       "1 2011-01-03 06:01:42  d9ec2e44-32e9-9148-179a-1653348cc4e2   \n",
       "2 2011-01-03 14:47:11  73babadf-5b2b-fee7-189e-6f41ff213e01   \n",
       "3 2011-01-03 16:39:45  3b46a0b7-0f34-9b9a-c319-ace4a1f58c0b   \n",
       "4 2011-01-03 17:51:53  fa006887-d93c-d302-8b89-f3c25f88c0e1   \n",
       "\n",
       "                           ORGANIZATION                                 PAYER  \\\n",
       "0  d78e84ec-30aa-3bba-a33a-f29a3a454662  b1c428d6-4f07-31e0-90f0-68ffa6ff8c76   \n",
       "1  d78e84ec-30aa-3bba-a33a-f29a3a454662  b1c428d6-4f07-31e0-90f0-68ffa6ff8c76   \n",
       "2  d78e84ec-30aa-3bba-a33a-f29a3a454662  7caa7254-5050-3b5e-9eae-bd5ea30e809c   \n",
       "3  d78e84ec-30aa-3bba-a33a-f29a3a454662  b1c428d6-4f07-31e0-90f0-68ffa6ff8c76   \n",
       "4  d78e84ec-30aa-3bba-a33a-f29a3a454662  42c4fca7-f8a9-3cd1-982a-dd9751bf3e2a   \n",
       "\n",
       "  ENCOUNTERCLASS       CODE                                 DESCRIPTION  \\\n",
       "0     ambulatory  185347001           Encounter for problem (procedure)   \n",
       "1     outpatient  308335008                 Patient encounter procedure   \n",
       "2     outpatient  185349003          Encounter for check up (procedure)   \n",
       "3       wellness  162673000  General examination of patient (procedure)   \n",
       "4     ambulatory  390906007                         Follow-up encounter   \n",
       "\n",
       "   BASE_ENCOUNTER_COST TOTAL_CLAIM_COST  PAYER_COVERAGE  REASONCODE  \\\n",
       "0                85.55          1018,02            0.00         NaN   \n",
       "1               142.58          2619,36            0.00         NaN   \n",
       "2                85.55           461,59          305.27         NaN   \n",
       "3               136.80          1784,24            0.00         NaN   \n",
       "4                85.55           234,72            0.00  55822004.0   \n",
       "\n",
       "  REASONDESCRIPTION  \n",
       "0               NaN  \n",
       "1               NaN  \n",
       "2               NaN  \n",
       "3               NaN  \n",
       "4    Hyperlipidemia  "
      ]
     },
     "execution_count": 32,
     "metadata": {},
     "output_type": "execute_result"
    }
   ],
   "source": [
    "# Define the date columns and their formats\n",
    "date_columns = {\n",
    "    'START': '%Y-%m-%dT%H:%M:%SZ',\n",
    "    'STOP': '%Y-%m-%dT%H:%M:%SZ'\n",
    "}\n",
    "\n",
    "# Clean and convert date columns\n",
    "encounters_df = clean_dates(encounters_df, date_columns)\n",
    "encounters_df.head(5)"
   ]
  },
  {
   "cell_type": "code",
   "execution_count": 33,
   "metadata": {},
   "outputs": [
    {
     "data": {
      "image/png": "[encoded data removed]",
      "text/plain": [
       "<Figure size 800x800 with 2 Axes>"
      ]
     },
     "metadata": {},
     "output_type": "display_data"
    }
   ],
   "source": [
    "# Plot boxplots for 'Start' and 'Stop' columns\n",
    "plot_boxplots(encounters_df, ['START', 'STOP'], 'Boxplots of Encounter Dates')"
   ]
  },
  {
   "cell_type": "code",
   "execution_count": 34,
   "metadata": {},
   "outputs": [
    {
     "name": "stdout",
     "output_type": "stream",
     "text": [
      "DataFrame Info:\n",
      "<class 'pandas.core.frame.DataFrame'>\n",
      "RangeIndex: 27891 entries, 0 to 27890\n",
      "Data columns (total 14 columns):\n",
      " #   Column               Non-Null Count  Dtype         \n",
      "---  ------               --------------  -----         \n",
      " 0   Id                   27891 non-null  object        \n",
      " 1   START                27891 non-null  datetime64[ns]\n",
      " 2   STOP                 27891 non-null  datetime64[ns]\n",
      " 3   PATIENT              27891 non-null  object        \n",
      " 4   ORGANIZATION         27891 non-null  object        \n",
      " 5   PAYER                27891 non-null  object        \n",
      " 6   ENCOUNTERCLASS       27891 non-null  object        \n",
      " 7   CODE                 27891 non-null  int64         \n",
      " 8   DESCRIPTION          27891 non-null  object        \n",
      " 9   BASE_ENCOUNTER_COST  27891 non-null  float64       \n",
      " 10  TOTAL_CLAIM_COST     27891 non-null  object        \n",
      " 11  PAYER_COVERAGE       27891 non-null  float64       \n",
      " 12  REASONCODE           8350 non-null   float64       \n",
      " 13  REASONDESCRIPTION    8350 non-null   object        \n",
      "dtypes: datetime64[ns](2), float64(3), int64(1), object(8)\n",
      "memory usage: 3.0+ MB\n",
      "None\n"
     ]
    }
   ],
   "source": [
    "# Display basic information about the DataFrame\n",
    "display_info(encounters_df)"
   ]
  },
  {
   "cell_type": "markdown",
   "metadata": {},
   "source": [
    "# Save clean data"
   ]
  },
  {
   "cell_type": "code",
   "execution_count": 35,
   "metadata": {},
   "outputs": [],
   "source": [
    "output_file = 'clean\\\\cleaned_encounters.csv'\n",
    "# Get the current directory (optional, for relative paths)\n",
    "current_directory = os.getcwd()\n",
    "# Combine the current directory with file names (optional, for relative paths)\n",
    "output_file_path = os.path.join(current_directory, output_file)"
   ]
  },
  {
   "cell_type": "code",
   "execution_count": 36,
   "metadata": {},
   "outputs": [
    {
     "name": "stdout",
     "output_type": "stream",
     "text": [
      "DataFrame saved to c:\\Users\\dell\\Desktop\\Patient_Records\\clean\\cleaned_encounters.csv.\n"
     ]
    }
   ],
   "source": [
    "# Save the cleaned DataFrame to a CSV file\n",
    "save_dataframe(encounters_df, output_file_path)"
   ]
  },
  {
   "cell_type": "markdown",
   "metadata": {},
   "source": [
    "<a id='1'></a>\n",
    "# <p style=\"background-color:white; font-family:newtimeroman; font-size:150%; text-align:center\">1. 📊 Procedures 📚</p>"
   ]
  },
  {
   "cell_type": "markdown",
   "metadata": {},
   "source": [
    "# Load the data"
   ]
  },
  {
   "cell_type": "code",
   "execution_count": 37,
   "metadata": {},
   "outputs": [
    {
     "data": {
      "text/html": [
       "<div>\n",
       "<style scoped>\n",
       "    .dataframe tbody tr th:only-of-type {\n",
       "        vertical-align: middle;\n",
       "    }\n",
       "\n",
       "    .dataframe tbody tr th {\n",
       "        vertical-align: top;\n",
       "    }\n",
       "\n",
       "    .dataframe thead th {\n",
       "        text-align: right;\n",
       "    }\n",
       "</style>\n",
       "<table border=\"1\" class=\"dataframe\">\n",
       "  <thead>\n",
       "    <tr style=\"text-align: right;\">\n",
       "      <th></th>\n",
       "      <th>START</th>\n",
       "      <th>STOP</th>\n",
       "      <th>PATIENT</th>\n",
       "      <th>ENCOUNTER</th>\n",
       "      <th>CODE</th>\n",
       "      <th>DESCRIPTION</th>\n",
       "      <th>BASE_COST</th>\n",
       "      <th>REASONCODE</th>\n",
       "      <th>REASONDESCRIPTION</th>\n",
       "    </tr>\n",
       "  </thead>\n",
       "  <tbody>\n",
       "    <tr>\n",
       "      <th>0</th>\n",
       "      <td>2011-01-02T09:26:36Z</td>\n",
       "      <td>2011-01-02T12:58:36Z</td>\n",
       "      <td>3de74169-7f67-9304-91d4-757e0f3a14d2</td>\n",
       "      <td>32c84703-2481-49cd-d571-3899d5820253</td>\n",
       "      <td>265764009</td>\n",
       "      <td>Renal dialysis (procedure)</td>\n",
       "      <td>903</td>\n",
       "      <td>NaN</td>\n",
       "      <td>NaN</td>\n",
       "    </tr>\n",
       "    <tr>\n",
       "      <th>1</th>\n",
       "      <td>2011-01-03T05:44:39Z</td>\n",
       "      <td>2011-01-03T06:01:42Z</td>\n",
       "      <td>d9ec2e44-32e9-9148-179a-1653348cc4e2</td>\n",
       "      <td>c98059da-320a-c0a6-fced-c8815f3e3f39</td>\n",
       "      <td>76601001</td>\n",
       "      <td>Intramuscular injection</td>\n",
       "      <td>2477</td>\n",
       "      <td>NaN</td>\n",
       "      <td>NaN</td>\n",
       "    </tr>\n",
       "    <tr>\n",
       "      <th>2</th>\n",
       "      <td>2011-01-04T14:49:55Z</td>\n",
       "      <td>2011-01-04T15:04:55Z</td>\n",
       "      <td>d856d6e6-4c98-e7a2-129b-44076c63d008</td>\n",
       "      <td>2cfd4ddd-ad13-fe1e-528b-15051cea2ec3</td>\n",
       "      <td>703423002</td>\n",
       "      <td>Combined chemotherapy and radiation therapy (p...</td>\n",
       "      <td>11620</td>\n",
       "      <td>363406005.0</td>\n",
       "      <td>Malignant tumor of colon</td>\n",
       "    </tr>\n",
       "    <tr>\n",
       "      <th>3</th>\n",
       "      <td>2011-01-05T04:02:09Z</td>\n",
       "      <td>2011-01-05T04:17:09Z</td>\n",
       "      <td>bc9d59c3-0a30-6e3b-f47d-022e4f03c8de</td>\n",
       "      <td>17966936-0878-f4db-128b-a43ae10d0878</td>\n",
       "      <td>173160006</td>\n",
       "      <td>Diagnostic fiberoptic bronchoscopy (procedure)</td>\n",
       "      <td>9796</td>\n",
       "      <td>162573006.0</td>\n",
       "      <td>Suspected lung cancer (situation)</td>\n",
       "    </tr>\n",
       "    <tr>\n",
       "      <th>4</th>\n",
       "      <td>2011-01-05T12:58:36Z</td>\n",
       "      <td>2011-01-05T16:42:36Z</td>\n",
       "      <td>3de74169-7f67-9304-91d4-757e0f3a14d2</td>\n",
       "      <td>9de5f0b0-4ba4-ce6f-45fb-b55c202f31a5</td>\n",
       "      <td>265764009</td>\n",
       "      <td>Renal dialysis (procedure)</td>\n",
       "      <td>1255</td>\n",
       "      <td>NaN</td>\n",
       "      <td>NaN</td>\n",
       "    </tr>\n",
       "  </tbody>\n",
       "</table>\n",
       "</div>"
      ],
      "text/plain": [
       "                  START                  STOP  \\\n",
       "0  2011-01-02T09:26:36Z  2011-01-02T12:58:36Z   \n",
       "1  2011-01-03T05:44:39Z  2011-01-03T06:01:42Z   \n",
       "2  2011-01-04T14:49:55Z  2011-01-04T15:04:55Z   \n",
       "3  2011-01-05T04:02:09Z  2011-01-05T04:17:09Z   \n",
       "4  2011-01-05T12:58:36Z  2011-01-05T16:42:36Z   \n",
       "\n",
       "                                PATIENT                             ENCOUNTER  \\\n",
       "0  3de74169-7f67-9304-91d4-757e0f3a14d2  32c84703-2481-49cd-d571-3899d5820253   \n",
       "1  d9ec2e44-32e9-9148-179a-1653348cc4e2  c98059da-320a-c0a6-fced-c8815f3e3f39   \n",
       "2  d856d6e6-4c98-e7a2-129b-44076c63d008  2cfd4ddd-ad13-fe1e-528b-15051cea2ec3   \n",
       "3  bc9d59c3-0a30-6e3b-f47d-022e4f03c8de  17966936-0878-f4db-128b-a43ae10d0878   \n",
       "4  3de74169-7f67-9304-91d4-757e0f3a14d2  9de5f0b0-4ba4-ce6f-45fb-b55c202f31a5   \n",
       "\n",
       "        CODE                                        DESCRIPTION  BASE_COST  \\\n",
       "0  265764009                         Renal dialysis (procedure)        903   \n",
       "1   76601001                            Intramuscular injection       2477   \n",
       "2  703423002  Combined chemotherapy and radiation therapy (p...      11620   \n",
       "3  173160006     Diagnostic fiberoptic bronchoscopy (procedure)       9796   \n",
       "4  265764009                         Renal dialysis (procedure)       1255   \n",
       "\n",
       "    REASONCODE                  REASONDESCRIPTION  \n",
       "0          NaN                                NaN  \n",
       "1          NaN                                NaN  \n",
       "2  363406005.0           Malignant tumor of colon  \n",
       "3  162573006.0  Suspected lung cancer (situation)  \n",
       "4          NaN                                NaN  "
      ]
     },
     "execution_count": 37,
     "metadata": {},
     "output_type": "execute_result"
    }
   ],
   "source": [
    "# Get the current working directory\n",
    "current_directory = os.getcwd()\n",
    "\n",
    "# Name of the file you want to read\n",
    "procedures_file_name = 'procedures.csv'\n",
    "\n",
    "# Create the full file path\n",
    "procedures_file_path = os.path.join(current_directory, procedures_file_name)\n",
    "# Load the data\n",
    "\n",
    "procedures_df = load_csv(procedures_file_path)\n",
    "procedures_df.head(5)"
   ]
  },
  {
   "cell_type": "code",
   "execution_count": 38,
   "metadata": {},
   "outputs": [
    {
     "name": "stdout",
     "output_type": "stream",
     "text": [
      "Descriptive Statistics:\n",
      "               CODE      BASE_COST    REASONCODE\n",
      "count  4.770100e+04   47701.000000  1.075600e+04\n",
      "mean   1.098683e+14    2212.064967  3.342532e+11\n",
      "std    9.057080e+14    5572.978748  4.748533e+12\n",
      "min    1.225002e+06       1.000000  5.602001e+06\n",
      "25%    2.251580e+08     431.000000  7.289200e+07\n",
      "50%    4.153000e+08     431.000000  7.289200e+07\n",
      "75%    7.629930e+08     966.000000  7.289200e+07\n",
      "max    1.633503e+16  289531.000000  6.781100e+13\n"
     ]
    }
   ],
   "source": [
    "# Display descriptive statistics of the DataFrame\n",
    "display_description(procedures_df)"
   ]
  },
  {
   "cell_type": "code",
   "execution_count": 39,
   "metadata": {},
   "outputs": [
    {
     "name": "stdout",
     "output_type": "stream",
     "text": [
      "DataFrame Info:\n",
      "<class 'pandas.core.frame.DataFrame'>\n",
      "RangeIndex: 47701 entries, 0 to 47700\n",
      "Data columns (total 9 columns):\n",
      " #   Column             Non-Null Count  Dtype  \n",
      "---  ------             --------------  -----  \n",
      " 0   START              47701 non-null  object \n",
      " 1   STOP               47701 non-null  object \n",
      " 2   PATIENT            47701 non-null  object \n",
      " 3   ENCOUNTER          47701 non-null  object \n",
      " 4   CODE               47701 non-null  int64  \n",
      " 5   DESCRIPTION        47701 non-null  object \n",
      " 6   BASE_COST          47701 non-null  int64  \n",
      " 7   REASONCODE         10756 non-null  float64\n",
      " 8   REASONDESCRIPTION  10756 non-null  object \n",
      "dtypes: float64(1), int64(2), object(6)\n",
      "memory usage: 3.3+ MB\n",
      "None\n"
     ]
    }
   ],
   "source": [
    "# Display basic information about the DataFrame\n",
    "display_info(procedures_df)"
   ]
  },
  {
   "cell_type": "markdown",
   "metadata": {},
   "source": [
    "# Handel duplication"
   ]
  },
  {
   "cell_type": "code",
   "execution_count": 40,
   "metadata": {},
   "outputs": [
    {
     "data": {
      "text/plain": [
       "'c:\\\\Users\\\\dell\\\\Desktop\\\\Patient_Records\\\\work\\\\procedures_duplicates.csv'"
      ]
     },
     "execution_count": 40,
     "metadata": {},
     "output_type": "execute_result"
    }
   ],
   "source": [
    "duplicates_file = \"Data_Anomalies\\\\procedures_duplicates.csv\"\n",
    "# Get the current directory (optional, for relative paths)\n",
    "current_directory = os.getcwd()\n",
    "# Combine the current directory with file names (optional, for relative paths)\n",
    "duplicates_file_path = os.path.join(current_directory, duplicates_file)\n",
    "duplicates_file_path"
   ]
  },
  {
   "cell_type": "code",
   "execution_count": 41,
   "metadata": {},
   "outputs": [
    {
     "name": "stdout",
     "output_type": "stream",
     "text": [
      "No duplicate rows found.\n"
     ]
    }
   ],
   "source": [
    "procedures_df = handle_duplicates(procedures_df, duplicates_file_path)"
   ]
  },
  {
   "cell_type": "markdown",
   "metadata": {},
   "source": [
    "# Date"
   ]
  },
  {
   "cell_type": "code",
   "execution_count": 42,
   "metadata": {},
   "outputs": [
    {
     "data": {
      "text/html": [
       "<div>\n",
       "<style scoped>\n",
       "    .dataframe tbody tr th:only-of-type {\n",
       "        vertical-align: middle;\n",
       "    }\n",
       "\n",
       "    .dataframe tbody tr th {\n",
       "        vertical-align: top;\n",
       "    }\n",
       "\n",
       "    .dataframe thead th {\n",
       "        text-align: right;\n",
       "    }\n",
       "</style>\n",
       "<table border=\"1\" class=\"dataframe\">\n",
       "  <thead>\n",
       "    <tr style=\"text-align: right;\">\n",
       "      <th></th>\n",
       "      <th>START</th>\n",
       "      <th>STOP</th>\n",
       "      <th>PATIENT</th>\n",
       "      <th>ENCOUNTER</th>\n",
       "      <th>CODE</th>\n",
       "      <th>DESCRIPTION</th>\n",
       "      <th>BASE_COST</th>\n",
       "      <th>REASONCODE</th>\n",
       "      <th>REASONDESCRIPTION</th>\n",
       "    </tr>\n",
       "  </thead>\n",
       "  <tbody>\n",
       "    <tr>\n",
       "      <th>0</th>\n",
       "      <td>2011-01-02 09:26:36</td>\n",
       "      <td>2011-01-02 12:58:36</td>\n",
       "      <td>3de74169-7f67-9304-91d4-757e0f3a14d2</td>\n",
       "      <td>32c84703-2481-49cd-d571-3899d5820253</td>\n",
       "      <td>265764009</td>\n",
       "      <td>Renal dialysis (procedure)</td>\n",
       "      <td>903</td>\n",
       "      <td>NaN</td>\n",
       "      <td>NaN</td>\n",
       "    </tr>\n",
       "    <tr>\n",
       "      <th>1</th>\n",
       "      <td>2011-01-03 05:44:39</td>\n",
       "      <td>2011-01-03 06:01:42</td>\n",
       "      <td>d9ec2e44-32e9-9148-179a-1653348cc4e2</td>\n",
       "      <td>c98059da-320a-c0a6-fced-c8815f3e3f39</td>\n",
       "      <td>76601001</td>\n",
       "      <td>Intramuscular injection</td>\n",
       "      <td>2477</td>\n",
       "      <td>NaN</td>\n",
       "      <td>NaN</td>\n",
       "    </tr>\n",
       "    <tr>\n",
       "      <th>2</th>\n",
       "      <td>2011-01-04 14:49:55</td>\n",
       "      <td>2011-01-04 15:04:55</td>\n",
       "      <td>d856d6e6-4c98-e7a2-129b-44076c63d008</td>\n",
       "      <td>2cfd4ddd-ad13-fe1e-528b-15051cea2ec3</td>\n",
       "      <td>703423002</td>\n",
       "      <td>Combined chemotherapy and radiation therapy (p...</td>\n",
       "      <td>11620</td>\n",
       "      <td>363406005.0</td>\n",
       "      <td>Malignant tumor of colon</td>\n",
       "    </tr>\n",
       "    <tr>\n",
       "      <th>3</th>\n",
       "      <td>2011-01-05 04:02:09</td>\n",
       "      <td>2011-01-05 04:17:09</td>\n",
       "      <td>bc9d59c3-0a30-6e3b-f47d-022e4f03c8de</td>\n",
       "      <td>17966936-0878-f4db-128b-a43ae10d0878</td>\n",
       "      <td>173160006</td>\n",
       "      <td>Diagnostic fiberoptic bronchoscopy (procedure)</td>\n",
       "      <td>9796</td>\n",
       "      <td>162573006.0</td>\n",
       "      <td>Suspected lung cancer (situation)</td>\n",
       "    </tr>\n",
       "    <tr>\n",
       "      <th>4</th>\n",
       "      <td>2011-01-05 12:58:36</td>\n",
       "      <td>2011-01-05 16:42:36</td>\n",
       "      <td>3de74169-7f67-9304-91d4-757e0f3a14d2</td>\n",
       "      <td>9de5f0b0-4ba4-ce6f-45fb-b55c202f31a5</td>\n",
       "      <td>265764009</td>\n",
       "      <td>Renal dialysis (procedure)</td>\n",
       "      <td>1255</td>\n",
       "      <td>NaN</td>\n",
       "      <td>NaN</td>\n",
       "    </tr>\n",
       "  </tbody>\n",
       "</table>\n",
       "</div>"
      ],
      "text/plain": [
       "                START                STOP  \\\n",
       "0 2011-01-02 09:26:36 2011-01-02 12:58:36   \n",
       "1 2011-01-03 05:44:39 2011-01-03 06:01:42   \n",
       "2 2011-01-04 14:49:55 2011-01-04 15:04:55   \n",
       "3 2011-01-05 04:02:09 2011-01-05 04:17:09   \n",
       "4 2011-01-05 12:58:36 2011-01-05 16:42:36   \n",
       "\n",
       "                                PATIENT                             ENCOUNTER  \\\n",
       "0  3de74169-7f67-9304-91d4-757e0f3a14d2  32c84703-2481-49cd-d571-3899d5820253   \n",
       "1  d9ec2e44-32e9-9148-179a-1653348cc4e2  c98059da-320a-c0a6-fced-c8815f3e3f39   \n",
       "2  d856d6e6-4c98-e7a2-129b-44076c63d008  2cfd4ddd-ad13-fe1e-528b-15051cea2ec3   \n",
       "3  bc9d59c3-0a30-6e3b-f47d-022e4f03c8de  17966936-0878-f4db-128b-a43ae10d0878   \n",
       "4  3de74169-7f67-9304-91d4-757e0f3a14d2  9de5f0b0-4ba4-ce6f-45fb-b55c202f31a5   \n",
       "\n",
       "        CODE                                        DESCRIPTION  BASE_COST  \\\n",
       "0  265764009                         Renal dialysis (procedure)        903   \n",
       "1   76601001                            Intramuscular injection       2477   \n",
       "2  703423002  Combined chemotherapy and radiation therapy (p...      11620   \n",
       "3  173160006     Diagnostic fiberoptic bronchoscopy (procedure)       9796   \n",
       "4  265764009                         Renal dialysis (procedure)       1255   \n",
       "\n",
       "    REASONCODE                  REASONDESCRIPTION  \n",
       "0          NaN                                NaN  \n",
       "1          NaN                                NaN  \n",
       "2  363406005.0           Malignant tumor of colon  \n",
       "3  162573006.0  Suspected lung cancer (situation)  \n",
       "4          NaN                                NaN  "
      ]
     },
     "execution_count": 42,
     "metadata": {},
     "output_type": "execute_result"
    }
   ],
   "source": [
    "# Define the date columns and their formats\n",
    "date_columns = {\n",
    "    'START': '%Y-%m-%dT%H:%M:%SZ',\n",
    "    'STOP': '%Y-%m-%dT%H:%M:%SZ'\n",
    "}\n",
    "\n",
    "# Clean and convert date columns\n",
    "procedures_df = clean_dates(procedures_df, date_columns)\n",
    "procedures_df.head(5)"
   ]
  },
  {
   "cell_type": "markdown",
   "metadata": {},
   "source": [
    "# Missing values"
   ]
  },
  {
   "cell_type": "code",
   "execution_count": 43,
   "metadata": {},
   "outputs": [
    {
     "data": {
      "text/plain": [
       "'c:\\\\Users\\\\dell\\\\Desktop\\\\Patient_Records\\\\work\\\\procedures_missing_info.csv'"
      ]
     },
     "execution_count": 43,
     "metadata": {},
     "output_type": "execute_result"
    }
   ],
   "source": [
    "procedures_missing_info_file = \"Data_Anomalies\\\\procedures_missing_info.csv\"\n",
    "# Get the current directory (optional, for relative paths)\n",
    "current_directory = os.getcwd()\n",
    "# Combine the current directory with file names (optional, for relative paths)\n",
    "procedures_missing_file_path = os.path.join(current_directory, procedures_missing_info_file)\n",
    "procedures_missing_file_path"
   ]
  },
  {
   "cell_type": "code",
   "execution_count": 44,
   "metadata": {},
   "outputs": [
    {
     "name": "stdout",
     "output_type": "stream",
     "text": [
      "Missing values information saved to c:\\Users\\dell\\Desktop\\Patient_Records\\work\\procedures_missing_info.csv.\n"
     ]
    }
   ],
   "source": [
    "# Save missing values information\n",
    "save_missing_values_info(procedures_df, procedures_missing_file_path)"
   ]
  },
  {
   "cell_type": "markdown",
   "metadata": {},
   "source": [
    "**Visual**"
   ]
  },
  {
   "cell_type": "code",
   "execution_count": 45,
   "metadata": {},
   "outputs": [
    {
     "data": {
      "image/png": "[encoded data removed]",
      "text/plain": [
       "<Figure size 800x800 with 2 Axes>"
      ]
     },
     "metadata": {},
     "output_type": "display_data"
    }
   ],
   "source": [
    "# Plot boxplots for 'Start' and 'Stop' columns\n",
    "plot_boxplots(procedures_df, ['START', 'STOP'], 'Boxplots of Encounter Dates')"
   ]
  },
  {
   "cell_type": "markdown",
   "metadata": {},
   "source": [
    "# Save clean data"
   ]
  },
  {
   "cell_type": "code",
   "execution_count": 46,
   "metadata": {},
   "outputs": [],
   "source": [
    "output_procedures_file = 'clean\\\\cleaned_procedures.csv'\n",
    "# Get the current directory (optional, for relative paths)\n",
    "current_directory = os.getcwd()\n",
    "# Combine the current directory with file names (optional, for relative paths)\n",
    "output_file_path_procedures = os.path.join(current_directory, output_procedures_file)"
   ]
  },
  {
   "cell_type": "code",
   "execution_count": 47,
   "metadata": {},
   "outputs": [
    {
     "name": "stdout",
     "output_type": "stream",
     "text": [
      "DataFrame saved to c:\\Users\\dell\\Desktop\\Patient_Records\\clean\\cleaned_procedures.csv.\n"
     ]
    }
   ],
   "source": [
    "# Save the cleaned DataFrame to a CSV file\n",
    "save_dataframe(procedures_df, output_file_path_procedures)"
   ]
  },
  {
   "cell_type": "code",
   "execution_count": 51,
   "metadata": {},
   "outputs": [
    {
     "data": {
      "text/plain": [
       "array(['ambulatory', 'outpatient', 'wellness', 'urgentcare', 'inpatient',\n",
       "       'emergency'], dtype=object)"
      ]
     },
     "execution_count": 51,
     "metadata": {},
     "output_type": "execute_result"
    }
   ],
   "source": [
    "encounters_df['ENCOUNTERCLASS'].unique()"
   ]
  },
  {
   "cell_type": "code",
   "execution_count": null,
   "metadata": {},
   "outputs": [],
   "source": []
  }
 ],
 "metadata": {
  "kernelspec": {
   "display_name": "Python 3",
   "language": "python",
   "name": "python3"
  },
  "language_info": {
   "codemirror_mode": {
    "name": "ipython",
    "version": 3
   },
   "file_extension": ".py",
   "mimetype": "text/x-python",
   "name": "python",
   "nbconvert_exporter": "python",
   "pygments_lexer": "ipython3",
   "version": "3.12.4"
  }
 },
 "nbformat": 4,
 "nbformat_minor": 2
}
